{
 "cells": [
  {
   "cell_type": "code",
   "execution_count": 2,
   "id": "7c78ff1f",
   "metadata": {},
   "outputs": [],
   "source": [
    "import streamlit as st"
   ]
  },
  {
   "cell_type": "code",
   "execution_count": 4,
   "id": "146ad44f",
   "metadata": {},
   "outputs": [
    {
     "name": "stderr",
     "output_type": "stream",
     "text": [
      "2025-05-10 17:03:13.300 Thread 'MainThread': missing ScriptRunContext! This warning can be ignored when running in bare mode.\n",
      "2025-05-10 17:03:13.300 Thread 'MainThread': missing ScriptRunContext! This warning can be ignored when running in bare mode.\n",
      "2025-05-10 17:03:13.300 Thread 'MainThread': missing ScriptRunContext! This warning can be ignored when running in bare mode.\n",
      "2025-05-10 17:03:13.300 Thread 'MainThread': missing ScriptRunContext! This warning can be ignored when running in bare mode.\n",
      "2025-05-10 17:03:13.300 Thread 'MainThread': missing ScriptRunContext! This warning can be ignored when running in bare mode.\n",
      "2025-05-10 17:03:13.300 Thread 'MainThread': missing ScriptRunContext! This warning can be ignored when running in bare mode.\n",
      "2025-05-10 17:03:13.306 Thread 'MainThread': missing ScriptRunContext! This warning can be ignored when running in bare mode.\n",
      "2025-05-10 17:03:13.306 Thread 'MainThread': missing ScriptRunContext! This warning can be ignored when running in bare mode.\n",
      "2025-05-10 17:03:13.306 Thread 'MainThread': missing ScriptRunContext! This warning can be ignored when running in bare mode.\n",
      "2025-05-10 17:03:13.306 Thread 'MainThread': missing ScriptRunContext! This warning can be ignored when running in bare mode.\n",
      "2025-05-10 17:03:13.306 Thread 'MainThread': missing ScriptRunContext! This warning can be ignored when running in bare mode.\n",
      "2025-05-10 17:03:13.306 Thread 'MainThread': missing ScriptRunContext! This warning can be ignored when running in bare mode.\n"
     ]
    }
   ],
   "source": [
    "# Set page configuration\n",
    "st.set_page_config(layout=\"wide\")\n",
    "\n",
    "# Define the layout: left sidebar (1 part) and main area (3 parts)\n",
    "col1, col2 = st.columns([1, 3])\n",
    "\n",
    "# ---- Left Sidebar Mimic ----\n",
    "with col1:\n",
    "    st.markdown(\"\"\"\n",
    "    <div style=\"background-color: #f8f9fa; padding: 20px; border-radius: 12px; height: 100vh; overflow-y: auto;\">\n",
    "        <h4 style=\"color:#5f4dee; margin-bottom: 10px;\">🎯 فرصة مميزة لك</h4>\n",
    "        <p style=\"font-size: 15px; color: #555;\">معسكرات وبرامج مقترحة لك</p>\n",
    "\n",
    "        <div style=\"margin-top: 30px;\">\n",
    "            <img src=\"https://via.placeholder.com/300x150\" style=\"width: 100%; border-radius: 10px;\" />\n",
    "            <h5 style=\"margin-top: 10px;\">أساسيات لحام الدوائر الإلكترونية</h5>\n",
    "            <p style=\"font-size: 14px;\">تقدم هذه الدورة نظرة شاملة على...</p>\n",
    "            <p style=\"font-size: 13px; color: gray;\">📅 18 مايو - 22 مايو</p>\n",
    "            <p style=\"font-size: 13px; color: gray;\">📍 الرياض - المقر الرئيسي</p>\n",
    "        </div>\n",
    "\n",
    "        <div style=\"margin-top: 40px;\">\n",
    "            <img src=\"https://via.placeholder.com/300x150\" style=\"width: 100%; border-radius: 10px;\" />\n",
    "            <h5 style=\"margin-top: 10px;\">اسم معسكر آخر</h5>\n",
    "            <p style=\"font-size: 14px;\">تفاصيل المعسكر الثاني المقترح...</p>\n",
    "            <p style=\"font-size: 13px; color: gray;\">📅 قريبًا</p>\n",
    "            <p style=\"font-size: 13px; color: gray;\">📍 عبر الإنترنت</p>\n",
    "        </div>\n",
    "    </div>\n",
    "    \"\"\", unsafe_allow_html=True)\n",
    "\n",
    "# ---- Main Dashboard Area (Dummy) ----\n",
    "with col2:\n",
    "    st.title(\"📊 لوحة التحكم التجريبية\")\n",
    "    st.write(\"هذه المساحة مخصصة لتجربة العناصر الأخرى لاحقًا.\")\n",
    "    st.write(\"يمكنك هنا تطوير الكروت أو عرض نسب التقدم أو أي محتوى آخر.\")\n"
   ]
  }
 ],
 "metadata": {
  "kernelspec": {
   "display_name": "Python 3",
   "language": "python",
   "name": "python3"
  },
  "language_info": {
   "codemirror_mode": {
    "name": "ipython",
    "version": 3
   },
   "file_extension": ".py",
   "mimetype": "text/x-python",
   "name": "python",
   "nbconvert_exporter": "python",
   "pygments_lexer": "ipython3",
   "version": "3.11.6"
  }
 },
 "nbformat": 4,
 "nbformat_minor": 5
}
