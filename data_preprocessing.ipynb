{
 "cells": [
  {
   "cell_type": "markdown",
   "id": "94520425",
   "metadata": {},
   "source": [
    "Combine and Clean Text"
   ]
  },
  {
   "cell_type": "code",
   "execution_count": 1,
   "id": "aa62a10c",
   "metadata": {},
   "outputs": [
    {
     "name": "stderr",
     "output_type": "stream",
     "text": [
      "[nltk_data] Downloading package stopwords to\n",
      "[nltk_data]     /Users/ghada./nltk_data...\n",
      "[nltk_data]   Package stopwords is already up-to-date!\n"
     ]
    }
   ],
   "source": [
    "import pandas as pd\n",
    "import re\n",
    "import nltk\n",
    "from nltk.corpus import stopwords\n",
    "\n",
    "nltk.download('stopwords')\n",
    "stop_words = set(stopwords.words('english'))\n",
    "\n",
    "# Load your data\n",
    "df = pd.read_csv(\"bootcamps.csv\") \n",
    "\n",
    "# Combine the relevant fields\n",
    "combined_fields = ['Title', 'Description', 'Category', 'Scope', 'Goals', 'Features', 'Requirements']\n",
    "df['combined_text'] = df[combined_fields].astype(str).agg(' '.join, axis=1)\n",
    "\n",
    "# Clean the text\n",
    "def clean_text(text):\n",
    "    text = text.lower()  # lowercase\n",
    "    text = re.sub(r'[^\\w\\s]', '', text)  # remove punctuation\n",
    "    text = ' '.join([word for word in text.split() if word not in stop_words])  # remove stopwords\n",
    "    return text\n",
    "\n",
    "df['cleaned_text'] = df['combined_text'].apply(clean_text)"
   ]
  },
  {
   "cell_type": "markdown",
   "id": "baa8238c",
   "metadata": {},
   "source": [
    "# BERT Embeddings"
   ]
  },
  {
   "cell_type": "markdown",
   "id": "352f1853",
   "metadata": {},
   "source": [
    "Bootcamp & Programs"
   ]
  },
  {
   "cell_type": "code",
   "execution_count": 3,
   "id": "ce1e5670",
   "metadata": {},
   "outputs": [
    {
     "name": "stderr",
     "output_type": "stream",
     "text": [
      "Batches: 100%|██████████| 1/1 [00:00<00:00,  1.26it/s]\n"
     ]
    }
   ],
   "source": [
    "from sentence_transformers import SentenceTransformer\n",
    "\n",
    "model = SentenceTransformer('all-MiniLM-L6-v2')  # Lightweight & fast\n",
    "bert_embeddings = model.encode(df['cleaned_text'], show_progress_bar=True)"
   ]
  },
  {
   "cell_type": "code",
   "execution_count": 4,
   "id": "51120d2b",
   "metadata": {},
   "outputs": [
    {
     "name": "stderr",
     "output_type": "stream",
     "text": [
      "Batches: 100%|██████████| 1/1 [00:00<00:00,  1.17it/s]"
     ]
    },
    {
     "name": "stdout",
     "output_type": "stream",
     "text": [
      "Bootcamp Embeddings shape: (15, 384)\n"
     ]
    },
    {
     "name": "stderr",
     "output_type": "stream",
     "text": [
      "\n"
     ]
    }
   ],
   "source": [
    "from sentence_transformers import SentenceTransformer\n",
    "import numpy as np\n",
    "\n",
    "model = SentenceTransformer('all-MiniLM-L6-v2')\n",
    "\n",
    "# Convert to string and clean nulls just to be safe\n",
    "df['cleaned_text'] = df['cleaned_text'].astype(str)\n",
    "\n",
    "# Encode all bootcamps at once\n",
    "bootcamp_embeddings = model.encode(df['cleaned_text'].tolist(), show_progress_bar=True)\n",
    "\n",
    "# Check shape\n",
    "print(\"Bootcamp Embeddings shape:\", np.array(bootcamp_embeddings).shape)"
   ]
  },
  {
   "cell_type": "markdown",
   "id": "eaa0f430",
   "metadata": {},
   "source": [
    "CV"
   ]
  },
  {
   "cell_type": "code",
   "execution_count": null,
   "id": "7ec7d538",
   "metadata": {},
   "outputs": [],
   "source": [
    "cv_text = \"I studied computer science and worked on AI projects using Python\"\n",
    "\n",
    "# Result shape: (1, 384)\n",
    "cv_embedding = model.encode([cv_text])  # wrap in a list\n",
    "\n",
    "print(\"CV Embedding shape:\", np.array(cv_embedding).shape)"
   ]
  }
 ],
 "metadata": {
  "kernelspec": {
   "display_name": "Python 3",
   "language": "python",
   "name": "python3"
  },
  "language_info": {
   "codemirror_mode": {
    "name": "ipython",
    "version": 3
   },
   "file_extension": ".py",
   "mimetype": "text/x-python",
   "name": "python",
   "nbconvert_exporter": "python",
   "pygments_lexer": "ipython3",
   "version": "3.12.2"
  }
 },
 "nbformat": 4,
 "nbformat_minor": 5
}
